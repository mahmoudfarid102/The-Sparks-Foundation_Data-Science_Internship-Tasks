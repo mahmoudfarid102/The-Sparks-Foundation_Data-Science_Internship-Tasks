{
 "cells": [
  {
   "cell_type": "markdown",
   "id": "62e2837e-ffb9-471b-aa0a-a2cb7a9e1d96",
   "metadata": {},
   "source": [
    "## **Name: Mahmoud Farid Mohamed**\n",
    "## **The Sparks fundation Data Dcience internship #GRIPMAY22**"
   ]
  },
  {
   "cell_type": "markdown",
   "id": "2ce86b08-7223-4854-9160-3e9680e8b12d",
   "metadata": {},
   "source": [
    "# **Task #1**\n",
    "### In this regression task we will predict the percentage of marks that a student is expected to score based upon the number of hours they studied."
   ]
  },
  {
   "cell_type": "code",
   "execution_count": 1,
   "id": "07cdec86-3b77-43e2-b7bc-b9080d173142",
   "metadata": {},
   "outputs": [],
   "source": [
    "#Importing libraries\n",
    "import pandas as pd\n",
    "import numpy as np\n",
    "from sklearn.linear_model import LinearRegression\n",
    "from sklearn.model_selection import train_test_split\n",
    "from sklearn.metrics import mean_squared_error, mean_absolute_error\n",
    "import matplotlib.pyplot as plt"
   ]
  },
  {
   "cell_type": "code",
   "execution_count": 2,
   "id": "9ea582d3",
   "metadata": {},
   "outputs": [
    {
     "name": "stdout",
     "output_type": "stream",
     "text": [
      "Data imported successfully\n",
      "(25, 2)\n"
     ]
    },
    {
     "data": {
      "text/html": [
       "<div>\n",
       "<style scoped>\n",
       "    .dataframe tbody tr th:only-of-type {\n",
       "        vertical-align: middle;\n",
       "    }\n",
       "\n",
       "    .dataframe tbody tr th {\n",
       "        vertical-align: top;\n",
       "    }\n",
       "\n",
       "    .dataframe thead th {\n",
       "        text-align: right;\n",
       "    }\n",
       "</style>\n",
       "<table border=\"1\" class=\"dataframe\">\n",
       "  <thead>\n",
       "    <tr style=\"text-align: right;\">\n",
       "      <th></th>\n",
       "      <th>Hours</th>\n",
       "      <th>Scores</th>\n",
       "    </tr>\n",
       "  </thead>\n",
       "  <tbody>\n",
       "    <tr>\n",
       "      <th>0</th>\n",
       "      <td>2.5</td>\n",
       "      <td>21</td>\n",
       "    </tr>\n",
       "    <tr>\n",
       "      <th>1</th>\n",
       "      <td>5.1</td>\n",
       "      <td>47</td>\n",
       "    </tr>\n",
       "    <tr>\n",
       "      <th>2</th>\n",
       "      <td>3.2</td>\n",
       "      <td>27</td>\n",
       "    </tr>\n",
       "    <tr>\n",
       "      <th>3</th>\n",
       "      <td>8.5</td>\n",
       "      <td>75</td>\n",
       "    </tr>\n",
       "    <tr>\n",
       "      <th>4</th>\n",
       "      <td>3.5</td>\n",
       "      <td>30</td>\n",
       "    </tr>\n",
       "  </tbody>\n",
       "</table>\n",
       "</div>"
      ],
      "text/plain": [
       "   Hours  Scores\n",
       "0    2.5      21\n",
       "1    5.1      47\n",
       "2    3.2      27\n",
       "3    8.5      75\n",
       "4    3.5      30"
      ]
     },
     "execution_count": 2,
     "metadata": {},
     "output_type": "execute_result"
    }
   ],
   "source": [
    "#loading data\n",
    "data = pd.read_csv(\"http://bit.ly/w-data\")\n",
    "print(\"Data imported successfully\")\n",
    "print(data.shape)\n",
    "data.head()"
   ]
  },
  {
   "cell_type": "code",
   "execution_count": 3,
   "id": "2761f7a6",
   "metadata": {},
   "outputs": [
    {
     "data": {
      "text/plain": [
       "<function matplotlib.pyplot.show(close=None, block=None)>"
      ]
     },
     "execution_count": 3,
     "metadata": {},
     "output_type": "execute_result"
    },
    {
     "data": {
      "image/png": "[encoded data removed]",
      "text/plain": [
       "<Figure size 432x288 with 1 Axes>"
      ]
     },
     "metadata": {
      "needs_background": "light"
     },
     "output_type": "display_data"
    }
   ],
   "source": [
    "# Plotting the distribution of scores\n",
    "data.plot(kind=\"scatter\", x = 'Hours', y = 'Scores', color = 'red', style = 'o')\n",
    "plt.title(\"'Hours vs Percentage\")\n",
    "plt.xlabel('Hours Studied')\n",
    "plt.ylabel('Scores')\n",
    "plt.show"
   ]
  },
  {
   "cell_type": "markdown",
   "id": "f3db43f9-183c-4e22-9464-320f67bb2fb2",
   "metadata": {},
   "source": [
    "### **Preparing the data**\n",
    "\n",
    "The next step is to divide the data into \"features\" (inputs) and \"labels\" (outputs)."
   ]
  },
  {
   "cell_type": "code",
   "execution_count": 4,
   "id": "66857b3c-32bc-4e3c-848e-46e82a472c65",
   "metadata": {},
   "outputs": [],
   "source": [
    "features = data.iloc[:, :-1].values  \n",
    "labels = data.iloc[:, 1].values"
   ]
  },
  {
   "cell_type": "code",
   "execution_count": 5,
   "id": "e11502d2",
   "metadata": {},
   "outputs": [],
   "source": [
    "#split this data into training and test sets\n",
    "x_train, x_test, y_train, y_test = train_test_split(features, labels, random_state=42, test_size=0.25)"
   ]
  },
  {
   "cell_type": "code",
   "execution_count": 6,
   "id": "fe24040c",
   "metadata": {},
   "outputs": [
    {
     "data": {
      "text/plain": [
       "(18, 1)"
      ]
     },
     "execution_count": 6,
     "metadata": {},
     "output_type": "execute_result"
    }
   ],
   "source": [
    "#Preparing the data\n",
    "x_train = np.array(x_train).reshape(x_train.shape[0], 1)\n",
    "x_test = np.array(x_test).reshape(x_test.shape[0], 1)\n",
    "y_train = np.array(y_train)\n",
    "y_test = np.array(y_test)\n",
    "x_train.shape"
   ]
  },
  {
   "cell_type": "markdown",
   "id": "0b3d6b1a-1147-4561-a2d0-626eb835d98d",
   "metadata": {},
   "source": [
    "### **Training the Algorithm**\n",
    "We have split our data into training and testing sets, and now is finally the time to train our algorithm"
   ]
  },
  {
   "cell_type": "code",
   "execution_count": 7,
   "id": "5e484560",
   "metadata": {},
   "outputs": [],
   "source": [
    "model = LinearRegression()\n",
    "model.fit(x_train, y_train)\n",
    "y_predict = model.predict(x_test) # Predicting the scores"
   ]
  },
  {
   "cell_type": "code",
   "execution_count": 8,
   "id": "411d6350",
   "metadata": {},
   "outputs": [
    {
     "data": {
      "text/plain": [
       "<function matplotlib.pyplot.show(close=None, block=None)>"
      ]
     },
     "execution_count": 8,
     "metadata": {},
     "output_type": "execute_result"
    },
    {
     "data": {
      "image/png": "[encoded data removed]",
      "text/plain": [
       "<Figure size 432x288 with 1 Axes>"
      ]
     },
     "metadata": {
      "needs_background": "light"
     },
     "output_type": "display_data"
    }
   ],
   "source": [
    "# Plotting the regression line\n",
    "predict = model.coef_ * data['Hours'] + model.intercept_\n",
    "\n",
    "# Plotting for the test data\n",
    "plt.scatter(data['Hours'], data['Scores'], color='red')\n",
    "plt.plot(data['Hours'], predict, color='blue')\n",
    "plt.show"
   ]
  },
  {
   "cell_type": "code",
   "execution_count": 9,
   "id": "97f85cba-c21e-452f-824a-c85653b62f0d",
   "metadata": {},
   "outputs": [
    {
     "data": {
      "text/html": [
       "<div>\n",
       "<style scoped>\n",
       "    .dataframe tbody tr th:only-of-type {\n",
       "        vertical-align: middle;\n",
       "    }\n",
       "\n",
       "    .dataframe tbody tr th {\n",
       "        vertical-align: top;\n",
       "    }\n",
       "\n",
       "    .dataframe thead th {\n",
       "        text-align: right;\n",
       "    }\n",
       "</style>\n",
       "<table border=\"1\" class=\"dataframe\">\n",
       "  <thead>\n",
       "    <tr style=\"text-align: right;\">\n",
       "      <th></th>\n",
       "      <th>Actual</th>\n",
       "      <th>Predicted</th>\n",
       "    </tr>\n",
       "  </thead>\n",
       "  <tbody>\n",
       "    <tr>\n",
       "      <th>0</th>\n",
       "      <td>81</td>\n",
       "      <td>83.107332</td>\n",
       "    </tr>\n",
       "    <tr>\n",
       "      <th>1</th>\n",
       "      <td>30</td>\n",
       "      <td>26.765598</td>\n",
       "    </tr>\n",
       "    <tr>\n",
       "      <th>2</th>\n",
       "      <td>21</td>\n",
       "      <td>26.765598</td>\n",
       "    </tr>\n",
       "    <tr>\n",
       "      <th>3</th>\n",
       "      <td>76</td>\n",
       "      <td>69.507603</td>\n",
       "    </tr>\n",
       "    <tr>\n",
       "      <th>4</th>\n",
       "      <td>62</td>\n",
       "      <td>59.793511</td>\n",
       "    </tr>\n",
       "    <tr>\n",
       "      <th>5</th>\n",
       "      <td>25</td>\n",
       "      <td>28.708416</td>\n",
       "    </tr>\n",
       "    <tr>\n",
       "      <th>6</th>\n",
       "      <td>42</td>\n",
       "      <td>34.536871</td>\n",
       "    </tr>\n",
       "  </tbody>\n",
       "</table>\n",
       "</div>"
      ],
      "text/plain": [
       "   Actual  Predicted\n",
       "0      81  83.107332\n",
       "1      30  26.765598\n",
       "2      21  26.765598\n",
       "3      76  69.507603\n",
       "4      62  59.793511\n",
       "5      25  28.708416\n",
       "6      42  34.536871"
      ]
     },
     "execution_count": 9,
     "metadata": {},
     "output_type": "execute_result"
    }
   ],
   "source": [
    "# Comparing Actual vs Predicted\n",
    "df = pd.DataFrame({'Actual': y_test, 'Predicted': y_predict})  \n",
    "df "
   ]
  },
  {
   "cell_type": "markdown",
   "id": "cea74458-4b87-4152-bfda-1a6c146a96b0",
   "metadata": {},
   "source": [
    "### **Wat will be predicted score if a student studies for 9.25hr/day?**"
   ]
  },
  {
   "cell_type": "code",
   "execution_count": 10,
   "id": "c226c708-7078-475d-975b-7e9bb5bc52e0",
   "metadata": {},
   "outputs": [
    {
     "name": "stdout",
     "output_type": "stream",
     "text": [
      "Study hours =  9.25\n",
      "Predicted score =  92.33571987331146\n"
     ]
    }
   ],
   "source": [
    "#Testing the model\n",
    "study_hours = np.array(9.25).reshape(-1, 1)\n",
    "score = model.predict(study_hours)\n",
    "print(\"Study hours = \", study_hours[0, 0])\n",
    "print(\"Predicted score = \", score[0])"
   ]
  },
  {
   "cell_type": "markdown",
   "id": "90d5d0c6-e145-43eb-a5b1-dd02fad35e96",
   "metadata": {},
   "source": [
    "### **Evaluating the model**\n",
    "\n",
    "The final step is to evaluate the performance of algorithm."
   ]
  },
  {
   "cell_type": "code",
   "execution_count": 11,
   "id": "0f21aeb2",
   "metadata": {},
   "outputs": [
    {
     "name": "stdout",
     "output_type": "stream",
     "text": [
      "Model accurcy = % 95.53509219739938\n"
     ]
    }
   ],
   "source": [
    "#model accurcy\n",
    "accurcy = model.score(x_test, y_test)\n",
    "print(\"Model accurcy = %\", accurcy*100)"
   ]
  },
  {
   "cell_type": "code",
   "execution_count": 12,
   "id": "66394ac9",
   "metadata": {},
   "outputs": [
    {
     "name": "stdout",
     "output_type": "stream",
     "text": [
      "Mean squared error =  23.51639603459522\n",
      "Mean absolute error =  4.425394675156182\n"
     ]
    }
   ],
   "source": [
    "#print Mean squared error and Mean absolute error\n",
    "print(\"Mean squared error = \", mean_squared_error(y_predict, y_test))\n",
    "print(\"Mean absolute error = \", mean_absolute_error(y_predict, y_test))"
   ]
  }
 ],
 "metadata": {
  "kernelspec": {
   "display_name": "Python 3 (ipykernel)",
   "language": "python",
   "name": "python3"
  },
  "language_info": {
   "codemirror_mode": {
    "name": "ipython",
    "version": 3
   },
   "file_extension": ".py",
   "mimetype": "text/x-python",
   "name": "python",
   "nbconvert_exporter": "python",
   "pygments_lexer": "ipython3",
   "version": "3.9.1"
  }
 },
 "nbformat": 4,
 "nbformat_minor": 5
}
